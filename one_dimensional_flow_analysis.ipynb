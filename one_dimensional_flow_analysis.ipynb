{
 "cells": [
  {
   "cell_type": "code",
   "execution_count": 1,
   "id": "922d2ea3-6d89-48dc-8a71-5cfe91771ddb",
   "metadata": {},
   "outputs": [],
   "source": [
    "import math\n",
    "import pandas as pd\n",
    "import numpy as np\n",
    "from matplotlib import pyplot as plt\n",
    "from IPython.display import display, clear_output"
   ]
  },
  {
   "cell_type": "markdown",
   "id": "09ecb14a-6c1f-4f98-a462-308b97a640f4",
   "metadata": {
    "tags": []
   },
   "source": [
    "# Data"
   ]
  },
  {
   "cell_type": "code",
   "execution_count": 5,
   "id": "38f3653a-0595-4a81-9389-7e1d5aec02f8",
   "metadata": {},
   "outputs": [],
   "source": [
    "P01 = 160            #kPa"
   ]
  },
  {
   "cell_type": "code",
   "execution_count": 6,
   "id": "dd56c1a1-ed61-456a-9593-6e664fcc74f0",
   "metadata": {},
   "outputs": [],
   "source": [
    "T01 = 400            #kelvin"
   ]
  },
  {
   "cell_type": "code",
   "execution_count": 7,
   "id": "58a2000a-f4b6-4906-a2d8-75736ed96f0d",
   "metadata": {},
   "outputs": [],
   "source": [
    "P_N = 100            #kPa"
   ]
  },
  {
   "cell_type": "code",
   "execution_count": 8,
   "id": "38272cc2-8cfb-4554-aef5-a0beff586f78",
   "metadata": {},
   "outputs": [],
   "source": [
    "gama = 1.4\n",
    "R = 0.287            #kj/kg-k\n",
    "C_v = 0.717          #kj/kg-k"
   ]
  },
  {
   "cell_type": "code",
   "execution_count": 9,
   "id": "bf2fc7af-8d19-4fb3-9d51-8584be238761",
   "metadata": {},
   "outputs": [],
   "source": [
    "rho01 = P01/(R*T01)"
   ]
  },
  {
   "cell_type": "code",
   "execution_count": 23,
   "id": "2256c047-6cbc-4d81-a345-fc2e1ced44af",
   "metadata": {},
   "outputs": [],
   "source": [
    "L1 = 3       #meter\n",
    "L2 = 1       #meter\n",
    "L3 = 5       #meter"
   ]
  },
  {
   "cell_type": "code",
   "execution_count": 24,
   "id": "39a38def-2d53-40ac-9665-4eed132519d7",
   "metadata": {},
   "outputs": [],
   "source": [
    "D1 = 0.2     #meter\n",
    "D3 = 0.1     #meter"
   ]
  },
  {
   "cell_type": "markdown",
   "id": "34228cbd-9901-4b21-abf5-dea97e0546d6",
   "metadata": {},
   "source": [
    "# Grid Points"
   ]
  },
  {
   "cell_type": "code",
   "execution_count": 25,
   "id": "1865662b-f641-48a1-8b26-c46a6e40852d",
   "metadata": {},
   "outputs": [],
   "source": [
    "dx = 0.1                                        #meter\n",
    "x1 = np.linspace(0, L1, int(L1/dx+1))\n",
    "x2 = np.linspace(L1, L1+L2, int(L2/dx+1))\n",
    "x3 = np.linspace(L1+L2, L1+L2+L3, int(L3/dx+1))"
   ]
  },
  {
   "cell_type": "code",
   "execution_count": 26,
   "id": "fd2316c0-e5a5-41a9-939d-ec4021f2d92a",
   "metadata": {},
   "outputs": [],
   "source": [
    "N = int(L1/dx+1)+int(L2/dx+1)+int(L3/dx+1)-2                     #Number of Grid Points"
   ]
  },
  {
   "cell_type": "code",
   "execution_count": 27,
   "id": "dd0ca5f3-83e1-46fa-a10f-eeddfe190369",
   "metadata": {},
   "outputs": [
    {
     "data": {
      "text/plain": [
       "91"
      ]
     },
     "execution_count": 27,
     "metadata": {},
     "output_type": "execute_result"
    }
   ],
   "source": [
    "N"
   ]
  },
  {
   "cell_type": "code",
   "execution_count": 28,
   "id": "3aa35936-6e2c-4c43-bcfb-c25b80935236",
   "metadata": {},
   "outputs": [],
   "source": [
    "x = np.array(list(x1)+list(x2[1:])+list(x3[1:]), dtype=float)"
   ]
  },
  {
   "cell_type": "code",
   "execution_count": 29,
   "id": "24e86ded-8912-4ad9-82a6-a93c2e8fc312",
   "metadata": {},
   "outputs": [
    {
     "data": {
      "text/plain": [
       "array([0. , 0.1, 0.2, 0.3, 0.4, 0.5, 0.6, 0.7, 0.8, 0.9, 1. , 1.1, 1.2,\n",
       "       1.3, 1.4, 1.5, 1.6, 1.7, 1.8, 1.9, 2. , 2.1, 2.2, 2.3, 2.4, 2.5,\n",
       "       2.6, 2.7, 2.8, 2.9, 3. , 3.1, 3.2, 3.3, 3.4, 3.5, 3.6, 3.7, 3.8,\n",
       "       3.9, 4. , 4.1, 4.2, 4.3, 4.4, 4.5, 4.6, 4.7, 4.8, 4.9, 5. , 5.1,\n",
       "       5.2, 5.3, 5.4, 5.5, 5.6, 5.7, 5.8, 5.9, 6. , 6.1, 6.2, 6.3, 6.4,\n",
       "       6.5, 6.6, 6.7, 6.8, 6.9, 7. , 7.1, 7.2, 7.3, 7.4, 7.5, 7.6, 7.7,\n",
       "       7.8, 7.9, 8. , 8.1, 8.2, 8.3, 8.4, 8.5, 8.6, 8.7, 8.8, 8.9, 9. ])"
      ]
     },
     "execution_count": 29,
     "metadata": {},
     "output_type": "execute_result"
    }
   ],
   "source": [
    "x"
   ]
  },
  {
   "cell_type": "code",
   "execution_count": 30,
   "id": "aefc5720-0b0a-4f39-aae9-0d1a20ee8ac7",
   "metadata": {},
   "outputs": [],
   "source": [
    "A = np.zeros(len(x))"
   ]
  },
  {
   "cell_type": "code",
   "execution_count": 31,
   "id": "f3627c89-f021-4fca-98a1-b8fc6e9c05bb",
   "metadata": {},
   "outputs": [],
   "source": [
    "for i in range(0, len(x)):\n",
    "    \n",
    "    if x[i] <= L1:\n",
    "        \n",
    "        A[i] = math.pi*D1**2/4\n",
    "        \n",
    "    elif x[i] <= L1+L2:\n",
    "        \n",
    "        D2 = (x[i]-L1)/L2*(D3-D1)+D1\n",
    "        A[i] = math.pi*D2**2/4\n",
    "        \n",
    "    else:\n",
    "        \n",
    "        A[i] = math.pi*D3**2/4"
   ]
  },
  {
   "cell_type": "markdown",
   "id": "eb2028aa-16fb-472e-8a49-7a5fc457c231",
   "metadata": {},
   "source": [
    "# Steady State"
   ]
  },
  {
   "cell_type": "code",
   "execution_count": 16,
   "id": "463a0c64-a43c-4a2d-b212-8a5d8cbf418d",
   "metadata": {},
   "outputs": [],
   "source": [
    "#primitive variables at t = 0:\n",
    "rho_n = 0.5*np.ones(len(x))\n",
    "v_n = 0.5*np.ones(len(x))\n",
    "T_n = 0.5*np.ones(len(x))\n",
    "P_n = rho_n*T_n\n",
    "\n",
    "CFL = 0.6\n",
    "\n",
    "n = np.where(x == L1+L2)[0][0]          #index for throat\n",
    "A = A/A[n]\n",
    "residual = 10**(-3)\n",
    "iteration = 1\n",
    "\n",
    "residual1 = 1\n",
    "residual2 = 1\n",
    "residual3 = 1\n",
    "\n",
    "#dU1/dt, dU2/dt, dU3/dt:\n",
    "dU1_dt = np.ones(len(x))\n",
    "dU2_dt = np.ones(len(x))\n",
    "dU3_dt = np.ones(len(x))\n",
    "\n",
    "#(dU1/dt)_bar, (dU2/dt)_bar:, (dU3/dt)_bar:\n",
    "dU1_dt_bar = np.ones(len(x))\n",
    "dU2_dt_bar = np.ones(len(x))\n",
    "dU3_dt_bar = np.ones(len(x))"
   ]
  },
  {
   "cell_type": "code",
   "execution_count": 17,
   "id": "732efdec-4bdc-4510-8ea8-3063a8a39f38",
   "metadata": {},
   "outputs": [
    {
     "data": {
      "image/png": "[encoded data removed]",
      "text/plain": [
       "<Figure size 432x288 with 1 Axes>"
      ]
     },
     "metadata": {},
     "output_type": "display_data"
    }
   ],
   "source": [
    "# Set up the initial plot\n",
    "fig, ax = plt.subplots()\n",
    "Iteration = []\n",
    "Residual1 = []\n",
    "Residual2 = []\n",
    "Residual3 = []\n",
    "dm = []\n",
    "line1, = ax.plot(Iteration, Residual1, label='(drho/dt)avg')\n",
    "line2, = ax.plot(Iteration, Residual2, label='(dv/dt)avg')\n",
    "line3, = ax.plot(Iteration, Residual3, label='(dT/dt)avg')\n",
    "ax.set_yscale('log')\n",
    "ax.set_xlabel('Iteration')\n",
    "ax.set_ylabel('Residual')\n",
    "ax.set_title('Live Residual Plot')\n",
    "ax.legend()\n",
    "dm_dot = 1\n",
    "\n",
    "while (dm_dot>0.01):\n",
    "    \n",
    "    print(f'this is iteration = {iteration}')\n",
    "    dt = np.min(CFL*dx/((gama*R*1000*abs(T_n)*T01)**0.5+abs(v_n)*(gama*R*1000*T01)**0.5))\n",
    "    \n",
    "    if np.isnan(dt):\n",
    "        \n",
    "        break\n",
    "    #dt = 0.000015\n",
    "    print(f'dt = {dt}')\n",
    "\n",
    "    #U1, U2, U3:\n",
    "    U1 = rho_n*A\n",
    "    U2 = rho_n*v_n*A\n",
    "    U3 = rho_n*(T_n/(gama-1)+gama/2*v_n**2)*A\n",
    "\n",
    "    #F1, F2, F3:\n",
    "    F1 = U2\n",
    "    F2 = U2**2/U1+(gama-1)/gama*(U3-gama/2*U2**2/U1)\n",
    "    F3 = gama*U2*U3/U1-gama*(gama-1)/2*U2**3/U1**2\n",
    "    J2 = (gama-1)/gama*(U3-gama/2*U2**2/U1)*math.pi/2*A*(D3-D1)/L2\n",
    "\n",
    "    for i in range(0, len(x)-1):\n",
    "    \n",
    "        dU1_dt[i] = -(F1[i+1]-F1[i])/dx\n",
    "        dU2_dt[i] = -(F2[i+1]-F2[i])/dx+J2[i]\n",
    "        dU3_dt[i] = -(F3[i+1]-F3[i])/dx\n",
    "        \n",
    "    #print(f'dU1_dt_bar = {dU1_dt[i]}')\n",
    "    \n",
    "    #U1_np1_bar, U1_np1_bar, U1_np1_bar:    np1: n+1\n",
    "    U1_np1_bar = U1+dU1_dt*dt\n",
    "    U2_np1_bar = U2+dU2_dt*dt\n",
    "    U3_np1_bar = U3+dU3_dt*dt    \n",
    "\n",
    "    #primitive variables:\n",
    "    rho_bar = U1_np1_bar/A\n",
    "    v_bar = U2_np1_bar/U1_np1_bar\n",
    "    T_bar = (gama-1)*(U3_np1_bar/U1_np1_bar-gama/2*v_bar**2)\n",
    "    P_bar = rho_bar*T_bar\n",
    "\n",
    "    #F1_bar, F2_bar, F3_bar, J2_bar:\n",
    "    F1_bar = U2_np1_bar\n",
    "    F2_bar = U2_np1_bar**2/U1_np1_bar+(gama-1)/gama*(U3_np1_bar-gama/2*U2_np1_bar**2/U1_np1_bar)\n",
    "    F3_bar = gama*U2_np1_bar*U3_np1_bar/U1_np1_bar-gama*(gama-1)/2*U2_np1_bar**3/U1_np1_bar**2\n",
    "    J2_bar = (gama-1)/gama*(U3_np1_bar-gama/2*U2_np1_bar**2/U1_np1_bar)*math.pi/2*A*(D3-D1)/L2\n",
    "\n",
    "    for i in range(1, len(x)):\n",
    "    \n",
    "        dU1_dt_bar[i] = -(F1_bar[i]-F1_bar[i-1])/dx\n",
    "        dU2_dt_bar[i] = -(F2_bar[i]-F2_bar[i-1])/dx+J2_bar[i]\n",
    "        dU3_dt_bar[i] = -(F3_bar[i]-F3_bar[i-1])/dx\n",
    "        \n",
    "    print(f'dU1_dt_bar = {dU1_dt_bar[i]}')\n",
    "    \n",
    "    #average of time derivatives:\n",
    "    dU1_dt_avg = 0.5*(dU1_dt_bar+dU1_dt)\n",
    "    dU2_dt_avg = 0.5*(dU2_dt_bar+dU2_dt)\n",
    "    dU3_dt_avg = 0.5*(dU3_dt_bar+dU3_dt)\n",
    "\n",
    "    #U1_np1, U1_np2, U1_np3\n",
    "    U1_np1 = U1+dU1_dt_avg*dt\n",
    "    U2_np1 = U2+dU2_dt_avg*dt\n",
    "    U3_np1 = U3+dU3_dt_avg*dt\n",
    "\n",
    "    #decoding primitive variables:\n",
    "    rho_np1 = U1_np1/A\n",
    "    v_np1 = U2_np1/U1_np1\n",
    "    T_np1 = (gama-1)*(U3_np1/U1_np1-gama/2*(U2_np1/U1_np1)**2)\n",
    "    P_np1 = rho_np1*T_np1\n",
    "    \n",
    "    #subsonic inlet:\n",
    "    P_np1[0] = P01/P01\n",
    "    T_np1[0] = T01/T01\n",
    "    a = (gama*R*1000*T_np1[0]*T01)\n",
    "    v_np1[0] = v_n[0]+dt*a*v_n[0]*math.log(A[1]/A[0])\n",
    "    rho_np1[0] = P_np1[0]/T_np1[0]\n",
    " \n",
    "    #outlet:\n",
    "    P_np1[N-1] = P_N/P01\n",
    "    rho_np1[N-1] = rho_n[N-1]\n",
    "    a = (gama*R*1000*T_np1[N-1]*T01)\n",
    "    v_np1[N-1] = v_n[N-1]-dt*a*v_n[N-1]*math.log(A[N-1]/A[N-2])\n",
    "    \n",
    "    \n",
    "    \n",
    "    residual1 = abs(rho_np1[n]-rho_n[n])/dt\n",
    "    residual2 = abs(v_np1[n]-v_n[n])/dt\n",
    "    residual3 = abs(T_np1[n]-T_n[n])/dt\n",
    "\n",
    "    #residuals:\n",
    "    drho_dt_avg = abs((rho_np1[n]-rho_n[n])/dt)\n",
    "    dv_dt_avg = abs((v_np1[n]-v_n[n])/dt)\n",
    "    dT_dt_avg = abs((T_np1[n]-T_n[n])/dt)\n",
    "    \n",
    "    rho_n = rho_np1.copy()\n",
    "    v_n = v_np1.copy()    \n",
    "    T_n = T_np1.copy() \n",
    "    P_n = P_np1.copy()\n",
    "    \n",
    "    #delta_m_dot\n",
    "    dm_dot = abs(rho_n[0]*(D1**2)*v_n[0]-rho_n[n]*(D3**2)*v_n[n])\n",
    "    \n",
    "    print(f'residual1 = {residual1}, residual2 = {residual2}, residual3 = {residual3}')\n",
    "    print(f'delta m_dot = {dm_dot}')\n",
    "    # Append the current iteration number and residual values to the x and y arrays\n",
    "    Iteration.append(iteration)\n",
    "    Residual1.append(drho_dt_avg)\n",
    "    Residual2.append(dv_dt_avg)\n",
    "    Residual3.append(dT_dt_avg)\n",
    "    dm.append(dm_dot)\n",
    "    \n",
    "    line1.set_data(Iteration, Residual1)\n",
    "    line2.set_data(Iteration, Residual2)\n",
    "    line3.set_data(Iteration, Residual3)\n",
    "    ax.relim()\n",
    "    ax.autoscale_view()\n",
    "    \n",
    "    # Update and display the plot after each iteration\n",
    "    clear_output(wait=True)\n",
    "    display(fig)\n",
    "    plt.pause(0.001)\n",
    "    \n",
    "    iteration += 1\n",
    "        \n",
    "    if iteration==20000:\n",
    "        break\n",
    "# Show the final plot after all iterations are completed\n",
    "plt.show()"
   ]
  },
  {
   "cell_type": "code",
   "execution_count": 42,
   "id": "a384f053-a76a-45d3-ad30-fc9c1a2ab513",
   "metadata": {},
   "outputs": [
    {
     "data": {
      "text/plain": [
       "Text(0, 0.5, 'delta mass flow[kg/sec]')"
      ]
     },
     "execution_count": 42,
     "metadata": {},
     "output_type": "execute_result"
    },
    {
     "data": {
      "image/png": "[encoded data removed]",
      "text/plain": [
       "<Figure size 432x288 with 1 Axes>"
      ]
     },
     "metadata": {
      "needs_background": "light"
     },
     "output_type": "display_data"
    }
   ],
   "source": [
    "plt.plot(Iteration, dm, linestyle = \"solid\", color='red')\n",
    "plt.yscale('log')\n",
    "plt.xlabel('iteration')\n",
    "plt.ylabel('delta mass flow[kg/sec]')"
   ]
  },
  {
   "cell_type": "code",
   "execution_count": 32,
   "id": "774b250a-b1a7-4181-857a-7dccf2f8fa84",
   "metadata": {},
   "outputs": [],
   "source": [
    "V = v_n*(gama*R*1000*abs(T_n)*T01)**0.5\n",
    "Rho = rho_n*rho01\n",
    "T = T_n*T01\n",
    "\n",
    "V[1] = (x[1]-x[0])/(x[3]-x[0])*(V[3]-V[0])+V[0]\n",
    "V[2] = (x[2]-x[0])/(x[3]-x[0])*(V[3]-V[0])+V[0]\n",
    "\n",
    "Rho[1] = (x[1]-x[0])/(x[3]-x[0])*(Rho[3]-Rho[0])+Rho[0]\n",
    "Rho[2] = (x[2]-x[0])/(x[3]-x[0])*(Rho[3]-Rho[0])+Rho[0]\n",
    "\n",
    "T[1] = (x[1]-x[0])/(x[3]-x[0])*(T[3]-T[0])+T[0]\n",
    "T[2] = (x[2]-x[0])/(x[3]-x[0])*(T[3]-T[0])+T[0]"
   ]
  },
  {
   "cell_type": "code",
   "execution_count": 38,
   "id": "c85d6727-2e41-4d03-9083-43525362ffce",
   "metadata": {},
   "outputs": [
    {
     "data": {
      "text/plain": [
       "Text(0, 0.5, 'velocity[meter/sec]')"
      ]
     },
     "execution_count": 38,
     "metadata": {},
     "output_type": "execute_result"
    },
    {
     "data": {
      "image/png": "[encoded data removed]",
      "text/plain": [
       "<Figure size 432x288 with 1 Axes>"
      ]
     },
     "metadata": {
      "needs_background": "light"
     },
     "output_type": "display_data"
    }
   ],
   "source": [
    "plt.plot(x, V, marker = \"o\", linestyle = \"solid\")\n",
    "plt.xlabel('x[meter]')\n",
    "plt.ylabel('velocity[meter/sec]')"
   ]
  },
  {
   "cell_type": "code",
   "execution_count": 39,
   "id": "d556af5f-a5cb-4bb7-b0af-26c49a338ab7",
   "metadata": {},
   "outputs": [
    {
     "data": {
      "text/plain": [
       "Text(0, 0.5, 'T[k]')"
      ]
     },
     "execution_count": 39,
     "metadata": {},
     "output_type": "execute_result"
    },
    {
     "data": {
      "image/png": "[encoded data removed]",
      "text/plain": [
       "<Figure size 432x288 with 1 Axes>"
      ]
     },
     "metadata": {
      "needs_background": "light"
     },
     "output_type": "display_data"
    }
   ],
   "source": [
    "plt.plot(x, T, marker = \"o\", linestyle = \"solid\")\n",
    "plt.xlabel('x[meter]')\n",
    "plt.ylabel('T[k]')"
   ]
  },
  {
   "cell_type": "code",
   "execution_count": 40,
   "id": "46e6e5ab-a83f-4778-b587-12a91496a68b",
   "metadata": {},
   "outputs": [
    {
     "data": {
      "text/plain": [
       "Text(0, 0.5, 'Rho[kg/m^2]')"
      ]
     },
     "execution_count": 40,
     "metadata": {},
     "output_type": "execute_result"
    },
    {
     "data": {
      "image/png": "[encoded data removed]",
      "text/plain": [
       "<Figure size 432x288 with 1 Axes>"
      ]
     },
     "metadata": {
      "needs_background": "light"
     },
     "output_type": "display_data"
    }
   ],
   "source": [
    "plt.plot(x, Rho, marker = \"o\", linestyle = \"solid\")\n",
    "plt.xlabel('x[meter]')\n",
    "plt.ylabel('Rho[kg/m^2]')"
   ]
  },
  {
   "cell_type": "code",
   "execution_count": 52,
   "id": "f902955c-3dbb-4f5e-9b1c-891f1b536a69",
   "metadata": {},
   "outputs": [],
   "source": [
    "df = pd.DataFrame({'rho':Rho/rho01,'v':V/(gama*R*1000*T01)**0.5,'T':T/T01})"
   ]
  },
  {
   "cell_type": "code",
   "execution_count": 53,
   "id": "23e12484-212f-4341-9ee0-38d86dcc00ad",
   "metadata": {},
   "outputs": [],
   "source": [
    "df.to_excel('steady.xlsx', index=False)"
   ]
  }
 ],
 "metadata": {
  "kernelspec": {
   "display_name": "Python 3 (ipykernel)",
   "language": "python",
   "name": "python3"
  },
  "language_info": {
   "codemirror_mode": {
    "name": "ipython",
    "version": 3
   },
   "file_extension": ".py",
   "mimetype": "text/x-python",
   "name": "python",
   "nbconvert_exporter": "python",
   "pygments_lexer": "ipython3",
   "version": "3.8.13"
  }
 },
 "nbformat": 4,
 "nbformat_minor": 5
}
